{
 "cells": [
  {
   "cell_type": "code",
   "execution_count": null,
   "metadata": {},
   "outputs": [],
   "source": [
    "import random, math\n",
    "def score(loc):\n",
    "    demand = loc['footfall'] * 0.07 * 0.12 * 12000\n",
    "    competition = loc['competitors']\n",
    "    site = loc['visibility'] + loc['frontage'] + (10 if loc['corner'] else 0)\n",
    "    cost = loc['rent'] * loc['area']\n",
    "    finance = demand*30 - cost\n",
    "    return demand, competition, site, cost, finance\n",
    "locations = []\n",
    "for i in range(50):\n",
    "    loc = {\n",
    "        'footfall': random.randint(300,800),\n",
    "        'competitors': random.random()*10,\n",
    "        'visibility': random.randint(1,10),\n",
    "        'frontage': random.randint(1,10),\n",
    "        'corner': random.random()>0.8,\n",
    "        'rent': 30000,\n",
    "        'area': 100\n",
    "    }\n",
    "    locations.append(loc)\n",
    "scores = [score(l) for l in locations]\n",
    "scores[:5]"
   ]
  }
 ],
 "metadata": {
  "kernelspec": {
   "display_name": "Python 3",
   "language": "python",
   "name": "python3"
  },
  "language_info": {
   "name": "python",
   "version": "3.11"
  }
 },
 "nbformat": 4,
 "nbformat_minor": 5
}
